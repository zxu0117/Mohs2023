{
 "cells": [
  {
   "cell_type": "code",
   "execution_count": 1,
   "id": "c333e879-4350-472e-a1e1-02ae11c40538",
   "metadata": {},
   "outputs": [],
   "source": [
    "import os\n",
    "import glob\n",
    "import pandas as pd\n",
    "import numpy as np\n",
    "import random\n",
    "import collections\n",
    "from vit_keras import vit, utils\n",
    "import tensorflow_addons as tfa\n",
    "from tensorflow.keras import layers\n",
    "from tensorflow.keras.callbacks import EarlyStopping\n",
    "from tensorflow.keras.callbacks import ModelCheckpoint\n",
    "from tensorflow.keras import Model\n",
    "from tensorflow.keras.preprocessing.image import ImageDataGenerator\n",
    "import tensorflow.keras.metrics\n",
    "import pickle\n",
    "import json\n",
    "\n",
    "from sklearn.utils import class_weight\n"
   ]
  },
  {
   "cell_type": "code",
   "execution_count": 2,
   "id": "59b0a17c-0298-43bf-980b-4eea0edf675f",
   "metadata": {},
   "outputs": [
    {
     "data": {
      "text/plain": [
       "{'model_name': 'Mohs_BCC_SCC_2023_propsplit',\n",
       " 'image_size': 512,\n",
       " 'loss': 'categorical_crossentropy',\n",
       " 'class_mode': 'categorical',\n",
       " 'output_layers': 3,\n",
       " 'output_activation': 'softmax',\n",
       " 'activation': 'relu',\n",
       " 'optimizer': 'sgd',\n",
       " 'num_epochs': 30,\n",
       " 'batch_size': 4}"
      ]
     },
     "execution_count": 2,
     "metadata": {},
     "output_type": "execute_result"
    }
   ],
   "source": [
    "experiment =  \"Mohs_BCC_SCC_2023_propsplit\"\n",
    "\n",
    "working_dir = '' # PUT YOUR HOME HERE\n",
    "processed_data = working_dir + \"processed/\"\n",
    "experiment_folder = working_dir + experiment + \"/\"\n",
    "model_output_folder = working_dir + experiment + \"/\" + \"model\" + \"/\"\n",
    "\n",
    "with open(experiment_folder+'MODEL_PARAMETERS.txt','r') as f:\n",
    "    model_file = f.read()        \n",
    "    MODEL_PARAMETERS = eval(model_file)\n",
    "\n",
    "MODEL_PARAMETERS"
   ]
  },
  {
   "cell_type": "code",
   "execution_count": 3,
   "id": "556654a9",
   "metadata": {},
   "outputs": [
    {
     "name": "stdout",
     "output_type": "stream",
     "text": [
      "Making a new folder for the new experiment\n"
     ]
    }
   ],
   "source": [
    "if not os.path.isdir(model_output_folder):\n",
    "    print(\"Making a new folder for the new experiment\")\n",
    "    os.mkdir(model_output_folder)\n",
    "else :\n",
    "    print(\"Caution : Will overwrite existing data and models\")\n"
   ]
  },
  {
   "cell_type": "code",
   "execution_count": 4,
   "id": "053f2cd0-ca2b-4b93-acb9-d62bd183f6f6",
   "metadata": {},
   "outputs": [
    {
     "name": "stdout",
     "output_type": "stream",
     "text": [
      "Ready to train.\n"
     ]
    }
   ],
   "source": [
    "files = os.listdir(model_output_folder)\n",
    "substring = \".json\"\n",
    "contains_substring = [substring in s for s in files]\n",
    "\n",
    "if any(contains_substring):\n",
    "    print(\"Caution : Will overwrite existing data and models\")\n",
    "else:\n",
    "    print(\"Ready to train.\")\n"
   ]
  },
  {
   "cell_type": "code",
   "execution_count": null,
   "id": "f2805fad-2132-4507-aab7-9f0f97c10a9a",
   "metadata": {},
   "outputs": [],
   "source": [
    "train_data = pd.read_csv(experiment_folder + \"train_data.csv\",index_col = 0)\n",
    "train_data"
   ]
  },
  {
   "cell_type": "code",
   "execution_count": null,
   "id": "fa485afe",
   "metadata": {},
   "outputs": [],
   "source": [
    "test_data = pd.read_csv(experiment_folder + \"test_data.csv\",index_col = 0)\n",
    "test_data"
   ]
  },
  {
   "cell_type": "code",
   "execution_count": null,
   "id": "2eb6d859-7928-42cd-9d2e-7ebc96880d38",
   "metadata": {},
   "outputs": [],
   "source": [
    "print(np.unique(train_data[\"patch_cancer\"]))\n",
    "print(collections.Counter(train_data[\"patch_cancer\"]))\n",
    "\n",
    "class_weights = class_weight.compute_class_weight('balanced',\n",
    "                                                 classes = np.unique(train_data[\"patch_cancer\"]),\n",
    "                                                 y = train_data[\"patch_cancer\"])\n",
    "\n",
    "class_weights = dict(zip([0,1,2], class_weights))\n",
    "\n",
    "class_weights"
   ]
  },
  {
   "cell_type": "code",
   "execution_count": null,
   "id": "cd5b8672-3d00-4d31-962b-d31b2945090c",
   "metadata": {},
   "outputs": [],
   "source": [
    "model = vit.vit_l32(\n",
    "    image_size=MODEL_PARAMETERS[\"image_size\"],\n",
    "    activation=MODEL_PARAMETERS[\"activation\"],\n",
    "    pretrained=True,\n",
    "    include_top=False,\n",
    "    pretrained_top=False,\n",
    ")"
   ]
  },
  {
   "cell_type": "code",
   "execution_count": null,
   "id": "b906c9a3-9bd0-4446-ad31-e8e304c9b8b2",
   "metadata": {},
   "outputs": [],
   "source": [
    "train_datagen = ImageDataGenerator(\n",
    "        brightness_range=[0.5, 1.5],\n",
    "        rotation_range=.1,\n",
    "        width_shift_range=0.15,\n",
    "        height_shift_range=0.15,\n",
    "        rescale=1./255,\n",
    "        zoom_range=0.05,\n",
    "        horizontal_flip=True,\n",
    "        vertical_flip = True,\n",
    "        fill_mode='constant')\n",
    "\n",
    "val_datagen = ImageDataGenerator(rescale=1./255)"
   ]
  },
  {
   "cell_type": "code",
   "execution_count": null,
   "id": "45b5cfe3-af18-4ae1-9ec0-bc9d0534042c",
   "metadata": {},
   "outputs": [],
   "source": [
    "train_generator=train_datagen.flow_from_dataframe(\n",
    "dataframe=train_data,\n",
    "x_col=\"full_path\",\n",
    "y_col=\"patch_cancer\",\n",
    "batch_size=MODEL_PARAMETERS['batch_size'],\n",
    "shuffle=True,\n",
    "class_mode=MODEL_PARAMETERS[\"class_mode\"],\n",
    "target_size=(MODEL_PARAMETERS[\"image_size\"],MODEL_PARAMETERS[\"image_size\"]))"
   ]
  },
  {
   "cell_type": "code",
   "execution_count": null,
   "id": "aa389b8e-0787-4728-aa3e-1053f8bc0212",
   "metadata": {},
   "outputs": [],
   "source": [
    "val_generator=val_datagen.flow_from_dataframe(\n",
    "dataframe=test_data,\n",
    "x_col=\"full_path\",\n",
    "y_col=\"patch_cancer\",\n",
    "batch_size=MODEL_PARAMETERS['batch_size'],\n",
    "shuffle=False,\n",
    "class_mode=MODEL_PARAMETERS[\"class_mode\"],\n",
    "target_size=(MODEL_PARAMETERS[\"image_size\"],MODEL_PARAMETERS[\"image_size\"]))"
   ]
  },
  {
   "cell_type": "code",
   "execution_count": null,
   "id": "7dee50d7-6933-4788-a1d2-a668c7288542",
   "metadata": {},
   "outputs": [],
   "source": [
    "x = model.output\n",
    "predictions = layers.Dense(MODEL_PARAMETERS[\"output_layers\"], activation=MODEL_PARAMETERS[\"output_activation\"])(x)\n",
    "new_model = Model(inputs=model.input, outputs=[predictions])"
   ]
  },
  {
   "cell_type": "code",
   "execution_count": null,
   "id": "0f6dfbb0-006d-4e42-9cff-957dfaf9b3b2",
   "metadata": {},
   "outputs": [],
   "source": [
    "model_json = new_model.to_json()\n",
    "with open(model_output_folder + MODEL_PARAMETERS[\"model_name\"]+\".json\", \"w\") as json_file:\n",
    "    json_file.write(model_json)"
   ]
  },
  {
   "cell_type": "code",
   "execution_count": null,
   "id": "1fe16df2-fcb5-42b8-9654-7bd6a7563c92",
   "metadata": {},
   "outputs": [],
   "source": [
    "es = EarlyStopping(monitor=\"val_loss\", mode=\"min\", verbose=1, patience=.5*MODEL_PARAMETERS['num_epochs'])\n",
    "\n",
    "mc = ModelCheckpoint(\n",
    "    model_output_folder + MODEL_PARAMETERS[\"model_name\"]+\".{val_loss:.3f}_cp.ckpt\",\n",
    "    monitor= \"val_loss\",\n",
    "    mode='min',\n",
    "    verbose=1, \n",
    "    save_best_only=True,\n",
    "    save_weights_only=True,\n",
    "    save_freq=\"epoch\"\n",
    ")"
   ]
  },
  {
   "cell_type": "code",
   "execution_count": null,
   "id": "a14d047c-3819-4b17-a160-1a5e953529be",
   "metadata": {},
   "outputs": [],
   "source": [
    "nbatches_train, mod = divmod(train_data.shape[0], MODEL_PARAMETERS['batch_size'])\n",
    "STEP_SIZE_VALID=val_generator.n//val_generator.batch_size"
   ]
  },
  {
   "cell_type": "code",
   "execution_count": null,
   "id": "2c0be4f7-5213-4df0-a531-875d04a0b3ca",
   "metadata": {},
   "outputs": [],
   "source": [
    "new_model.compile(\n",
    "    optimizer=MODEL_PARAMETERS[\"optimizer\"],\n",
    "    loss=MODEL_PARAMETERS[\"loss\"]\n",
    ")"
   ]
  },
  {
   "cell_type": "code",
   "execution_count": null,
   "id": "b293c29e-4459-4524-99a5-1723f80d6eeb",
   "metadata": {},
   "outputs": [],
   "source": [
    "history = new_model.fit(\n",
    "    train_generator,\n",
    "    validation_data=val_generator,\n",
    "    validation_steps=STEP_SIZE_VALID,\n",
    "    steps_per_epoch=nbatches_train,\n",
    "    epochs=MODEL_PARAMETERS['num_epochs'],\n",
    "    workers=1,\n",
    "    shuffle=True,\n",
    "    #callbacks=[mc, es],\n",
    "    callbacks=[mc],\n",
    "    class_weight = class_weights,\n",
    "    verbose=1)\n"
   ]
  },
  {
   "cell_type": "code",
   "execution_count": null,
   "id": "9b47b2a1-7391-4148-bcef-1e074f583e12",
   "metadata": {},
   "outputs": [],
   "source": [
    "with open(model_output_folder+'trainHistoryDict', 'wb') as file_pi:\n",
    "        pickle.dump(history.history, file_pi)\n",
    "        \n",
    "history.history"
   ]
  }
 ],
 "metadata": {
  "kernelspec": {
   "display_name": "tensorflow2_p38",
   "language": "python",
   "name": "tensorflow2_p38"
  },
  "language_info": {
   "codemirror_mode": {
    "name": "ipython",
    "version": 3
   },
   "file_extension": ".py",
   "mimetype": "text/x-python",
   "name": "python",
   "nbconvert_exporter": "python",
   "pygments_lexer": "ipython3",
   "version": "3.8.12"
  }
 },
 "nbformat": 4,
 "nbformat_minor": 5
}
