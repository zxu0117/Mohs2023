{
 "cells": [
  {
   "cell_type": "code",
   "execution_count": 1,
   "id": "a705bcaa",
   "metadata": {},
   "outputs": [],
   "source": [
    "import os\n",
    "import glob\n",
    "import pandas as pd\n",
    "import numpy as np\n",
    "import random\n",
    "from collections import Counter\n",
    "from vit_keras import vit, utils\n",
    "import tensorflow_addons as tfa\n",
    "from tensorflow.keras import layers\n",
    "from tensorflow.keras.callbacks import EarlyStopping\n",
    "from tensorflow.keras.callbacks import ModelCheckpoint\n",
    "from tensorflow.keras import Model\n",
    "from tensorflow.keras.preprocessing.image import ImageDataGenerator\n",
    "import tensorflow.keras.metrics"
   ]
  },
  {
   "cell_type": "code",
   "execution_count": 2,
   "id": "3849a68c",
   "metadata": {},
   "outputs": [],
   "source": [
    "IMAGE_SIZE = \"CHANGE\"\n",
    "\n",
    "working_dir = '/Users/suzyxu/Documents/ML/Mohs2023/'\n",
    "raw_data = working_dir + \"data/RAW/\"\n",
    "processed_data = working_dir + \"data/processed/\"\n",
    "model_folder = working_dir + \"data/model/\"\n",
    "\n",
    "MODEL_PARAMETERS = {\"model_name\" : \"Mohs_BCC_SCC_2023\", #name of the model of my choosing                    \n",
    "                    \"loss\" : \"categorical_crossentropy\", #\n",
    "                    \"class_mode\": \"categorical\", #\n",
    "                    \"output_layers\" : 3, #\n",
    "                    \"output_activation\" : \"softmax\", #\n",
    "                    \"activation\" : \"relu\", \n",
    "                    \"optimizer\" : \"sgd\",\n",
    "                    \"num_epochs\" : 50,\n",
    "                    \"batch_size\" : 128}\n",
    "\n",
    "model_output_folder = model_folder + MODEL_PARAMETERS[\"model_name\"] + \"/\""
   ]
  },
  {
   "cell_type": "code",
   "execution_count": 3,
   "id": "1bc3843a",
   "metadata": {},
   "outputs": [
    {
     "name": "stdout",
     "output_type": "stream",
     "text": [
      "{'model_name': 'Mohs_BCC_SCC_2023', 'loss': 'categorical_crossentropy', 'class_mode': 'categorical', 'output_layers': 3, 'output_activation': 'softmax', 'activation': 'relu', 'optimizer': 'sgd', 'num_epochs': 50, 'batch_size': 128}\n"
     ]
    }
   ],
   "source": [
    "if not os.path.isdir(model_output_folder):\n",
    "    os.mkdir(model_output_folder)\n",
    "\n",
    "# Write out parameters\n",
    "with open(model_output_folder+'MODEL_PARAMETERS.txt','w') as data: \n",
    "      data.write(str(MODEL_PARAMETERS))\n",
    "        \n",
    "print(MODEL_PARAMETERS)"
   ]
  },
  {
   "cell_type": "code",
   "execution_count": 4,
   "id": "6e343099",
   "metadata": {},
   "outputs": [
    {
     "data": {
      "text/html": [
       "<div>\n",
       "<style scoped>\n",
       "    .dataframe tbody tr th:only-of-type {\n",
       "        vertical-align: middle;\n",
       "    }\n",
       "\n",
       "    .dataframe tbody tr th {\n",
       "        vertical-align: top;\n",
       "    }\n",
       "\n",
       "    .dataframe thead th {\n",
       "        text-align: right;\n",
       "    }\n",
       "</style>\n",
       "<table border=\"1\" class=\"dataframe\">\n",
       "  <thead>\n",
       "    <tr style=\"text-align: right;\">\n",
       "      <th></th>\n",
       "      <th>full_path</th>\n",
       "    </tr>\n",
       "  </thead>\n",
       "  <tbody>\n",
       "    <tr>\n",
       "      <th>0</th>\n",
       "      <td>/Users/suzyxu/Documents/ML/Mohs2023/data/RAW/P...</td>\n",
       "    </tr>\n",
       "    <tr>\n",
       "      <th>1</th>\n",
       "      <td>/Users/suzyxu/Documents/ML/Mohs2023/data/RAW/P...</td>\n",
       "    </tr>\n",
       "    <tr>\n",
       "      <th>2</th>\n",
       "      <td>/Users/suzyxu/Documents/ML/Mohs2023/data/RAW/P...</td>\n",
       "    </tr>\n",
       "    <tr>\n",
       "      <th>3</th>\n",
       "      <td>/Users/suzyxu/Documents/ML/Mohs2023/data/RAW/P...</td>\n",
       "    </tr>\n",
       "    <tr>\n",
       "      <th>4</th>\n",
       "      <td>/Users/suzyxu/Documents/ML/Mohs2023/data/RAW/P...</td>\n",
       "    </tr>\n",
       "    <tr>\n",
       "      <th>...</th>\n",
       "      <td>...</td>\n",
       "    </tr>\n",
       "    <tr>\n",
       "      <th>291</th>\n",
       "      <td>/Users/suzyxu/Documents/ML/Mohs2023/data/RAW/P...</td>\n",
       "    </tr>\n",
       "    <tr>\n",
       "      <th>292</th>\n",
       "      <td>/Users/suzyxu/Documents/ML/Mohs2023/data/RAW/P...</td>\n",
       "    </tr>\n",
       "    <tr>\n",
       "      <th>293</th>\n",
       "      <td>/Users/suzyxu/Documents/ML/Mohs2023/data/RAW/P...</td>\n",
       "    </tr>\n",
       "    <tr>\n",
       "      <th>294</th>\n",
       "      <td>/Users/suzyxu/Documents/ML/Mohs2023/data/RAW/P...</td>\n",
       "    </tr>\n",
       "    <tr>\n",
       "      <th>295</th>\n",
       "      <td>/Users/suzyxu/Documents/ML/Mohs2023/data/RAW/P...</td>\n",
       "    </tr>\n",
       "  </tbody>\n",
       "</table>\n",
       "<p>296 rows × 1 columns</p>\n",
       "</div>"
      ],
      "text/plain": [
       "                                             full_path\n",
       "0    /Users/suzyxu/Documents/ML/Mohs2023/data/RAW/P...\n",
       "1    /Users/suzyxu/Documents/ML/Mohs2023/data/RAW/P...\n",
       "2    /Users/suzyxu/Documents/ML/Mohs2023/data/RAW/P...\n",
       "3    /Users/suzyxu/Documents/ML/Mohs2023/data/RAW/P...\n",
       "4    /Users/suzyxu/Documents/ML/Mohs2023/data/RAW/P...\n",
       "..                                                 ...\n",
       "291  /Users/suzyxu/Documents/ML/Mohs2023/data/RAW/P...\n",
       "292  /Users/suzyxu/Documents/ML/Mohs2023/data/RAW/P...\n",
       "293  /Users/suzyxu/Documents/ML/Mohs2023/data/RAW/P...\n",
       "294  /Users/suzyxu/Documents/ML/Mohs2023/data/RAW/P...\n",
       "295  /Users/suzyxu/Documents/ML/Mohs2023/data/RAW/P...\n",
       "\n",
       "[296 rows x 1 columns]"
      ]
     },
     "execution_count": 4,
     "metadata": {},
     "output_type": "execute_result"
    }
   ],
   "source": [
    "#putting all photos in one table with full path\n",
    "image_pattern = raw_data + \"/**/*.jpg\"\n",
    "file_list = glob.glob(image_pattern, recursive=True)\n",
    "Training_table = pd.DataFrame(file_list,columns = [\"full_path\"])\n",
    "Training_table"
   ]
  },
  {
   "cell_type": "code",
   "execution_count": 8,
   "id": "0987dec0",
   "metadata": {},
   "outputs": [
    {
     "data": {
      "text/plain": [
       "patient  cancer  class_set\n",
       "1        BCC     test          1\n",
       "                 train         3\n",
       "                 val           1\n",
       "         N       test          6\n",
       "                 train        20\n",
       "                 val           3\n",
       "2        BCC     test          8\n",
       "                 train        26\n",
       "                 val           3\n",
       "         N       test          1\n",
       "                 train         3\n",
       "3        N       test         11\n",
       "                 train        36\n",
       "                 val           5\n",
       "         SCC     test         10\n",
       "                 train        31\n",
       "                 val           4\n",
       "4        BCC     test          8\n",
       "                 train        28\n",
       "                 val           4\n",
       "         N       test          7\n",
       "                 train        23\n",
       "                 val           3\n",
       "dtype: int64"
      ]
     },
     "execution_count": 8,
     "metadata": {},
     "output_type": "execute_result"
    }
   ],
   "source": [
    "Training_table[\"metadata\"] = [file.split(\"/\")[10] for file in Training_table[\"full_path\"]]\n",
    "Training_table[\"metadata\"] = [file.replace(\".jpg\", \"\") for file in Training_table[\"metadata\"]]\n",
    "Training_table = Training_table[ Training_table[ \"metadata\" ].str.contains( \"2x\" )==False ]\n",
    "Training_table.reset_index(drop = True,inplace = True)\n",
    "\n",
    "Training_table[\"patient\"] = \"\"\n",
    "Training_table[\"slide\"] = \"\"\n",
    "Training_table[\"zoom\"] = \"\"\n",
    "Training_table[\"cancer\"] = \"\"\n",
    "Training_table[\"image_number\"] = \"\"\n",
    "Training_table[\"class_set\"] = \"train\"\n",
    "\n",
    "for index in Training_table.index:\n",
    "    metadata = Training_table[\"metadata\"][index]\n",
    "    metadata = metadata.split(\"_\")\n",
    "    Training_table.loc[index,\"patient\"] = metadata[0]\n",
    "    Training_table.loc[index,\"slide\"] = metadata[1]\n",
    "    Training_table.loc[index,\"zoom\"] = metadata[2]\n",
    "    Training_table.loc[index,\"cancer\"] = metadata[3]\n",
    "    Training_table.loc[index,\"image_number\"] = metadata[4]\n",
    "    \n",
    "random.seed(10)\n",
    "test_sample = Training_table.groupby([\"patient\",\"cancer\"], group_keys=False).apply(lambda x:x.sample(frac=0.3)).index.tolist()\n",
    "Training_table.loc[Training_table.index[test_sample],\"class_set\"] = \"test\"\n",
    "Training_table.groupby([\"patient\", \"cancer\", \"class_set\"]).size()\n",
    "\n",
    "random.seed(10)\n",
    "val_sample = Training_table.loc[test_sample].groupby([\"patient\",\"cancer\"], group_keys=False).apply(lambda x:x.sample(frac=0.3)).index.tolist()\n",
    "Training_table.loc[Training_table.index[val_sample],\"class_set\"] = \"val\"\n",
    "\n",
    "Training_table.groupby([\"patient\", \"cancer\", \"class_set\"]).size()"
   ]
  },
  {
   "cell_type": "code",
   "execution_count": null,
   "id": "c722832e",
   "metadata": {},
   "outputs": [],
   "source": []
  }
 ],
 "metadata": {
  "kernelspec": {
   "display_name": "vittf2.9_3.9plot",
   "language": "python",
   "name": "vittf2.9_3.9plot"
  },
  "language_info": {
   "codemirror_mode": {
    "name": "ipython",
    "version": 3
   },
   "file_extension": ".py",
   "mimetype": "text/x-python",
   "name": "python",
   "nbconvert_exporter": "python",
   "pygments_lexer": "ipython3",
   "version": "3.9.16"
  }
 },
 "nbformat": 4,
 "nbformat_minor": 5
}
