{
 "cells": [
  {
   "cell_type": "code",
   "execution_count": 1,
   "id": "7cea4fbf",
   "metadata": {},
   "outputs": [],
   "source": [
    "import os\n",
    "import glob\n",
    "import pandas as pd\n",
    "import numpy as np\n",
    "import random\n",
    "import collections\n",
    "from vit_keras import vit, utils\n",
    "import tensorflow_addons as tfa\n",
    "from tensorflow.keras import layers\n",
    "from tensorflow.keras.callbacks import EarlyStopping\n",
    "from tensorflow.keras.callbacks import ModelCheckpoint\n",
    "from tensorflow.keras import Model\n",
    "from tensorflow.keras.preprocessing.image import ImageDataGenerator\n",
    "import tensorflow.keras.metrics"
   ]
  },
  {
   "cell_type": "code",
   "execution_count": null,
   "id": "d2265bc5",
   "metadata": {},
   "outputs": [],
   "source": [
    "IMAGE_SIZE = 64\n",
    "\n",
    "dataset_loc = '/home/ubuntu/Data/MedImage/'\n",
    "image_folder = dataset_loc + \"IDC_regular_ps50_idx5/\"\n",
    "\n",
    "MODEL_PARAMETERS = {\"model_name\" : \"ViT_Train_3_weights\",                    \n",
    "                    \"activation\" : \"relu\", # can be relu / sigmoid - **need to google for binary classification,               \n",
    "                    \"loss\" : \"binary_crossentropy\",\n",
    "                    \"optimizer\" : \"sgd\",\n",
    "                    \"class_mode\": \"binary\",\n",
    "                    \"output_layers\" : 1,\n",
    "                    \"output_activation\" : \"sigmoid\",\n",
    "                    \"num_epochs\" : 50,\n",
    "                    \"batch_size\" : 128}\n",
    "\n",
    "model_output_folder = dataset_loc + MODEL_PARAMETERS[\"model_name\"] + \"/\""
   ]
  }
 ],
 "metadata": {
  "kernelspec": {
   "display_name": "vittf2.9_3.9plot",
   "language": "python",
   "name": "vittf2.9_3.9plot"
  },
  "language_info": {
   "codemirror_mode": {
    "name": "ipython",
    "version": 3
   },
   "file_extension": ".py",
   "mimetype": "text/x-python",
   "name": "python",
   "nbconvert_exporter": "python",
   "pygments_lexer": "ipython3",
   "version": "3.9.16"
  }
 },
 "nbformat": 4,
 "nbformat_minor": 5
}
